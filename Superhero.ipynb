{
 "cells": [
  {
   "cell_type": "code",
   "execution_count": 1,
   "metadata": {
    "collapsed": true
   },
   "outputs": [],
   "source": [
    "import pandas as pd\n",
    "import numpy as np\n",
    "from scipy import stats\n",
    "from IPython.display import display, HTML"
   ]
  },
  {
   "cell_type": "code",
   "execution_count": 2,
   "metadata": {},
   "outputs": [
    {
     "data": {
      "text/html": [
       "<div>\n",
       "<table border=\"1\" class=\"dataframe\">\n",
       "  <thead>\n",
       "    <tr style=\"text-align: right;\">\n",
       "      <th></th>\n",
       "      <th>Name</th>\n",
       "      <th>Alignment</th>\n",
       "      <th>Intelligence</th>\n",
       "      <th>Strength</th>\n",
       "    </tr>\n",
       "  </thead>\n",
       "  <tbody>\n",
       "    <tr>\n",
       "      <th>0</th>\n",
       "      <td>Iron Man</td>\n",
       "      <td>good</td>\n",
       "      <td>100</td>\n",
       "      <td>85</td>\n",
       "    </tr>\n",
       "    <tr>\n",
       "      <th>1</th>\n",
       "      <td>Captain America</td>\n",
       "      <td>good</td>\n",
       "      <td>63</td>\n",
       "      <td>65</td>\n",
       "    </tr>\n",
       "    <tr>\n",
       "      <th>2</th>\n",
       "      <td>Hulk</td>\n",
       "      <td>good</td>\n",
       "      <td>88</td>\n",
       "      <td>100</td>\n",
       "    </tr>\n",
       "    <tr>\n",
       "      <th>3</th>\n",
       "      <td>Hawkeye</td>\n",
       "      <td>good</td>\n",
       "      <td>62</td>\n",
       "      <td>12</td>\n",
       "    </tr>\n",
       "    <tr>\n",
       "      <th>4</th>\n",
       "      <td>Thor</td>\n",
       "      <td>good</td>\n",
       "      <td>69</td>\n",
       "      <td>100</td>\n",
       "    </tr>\n",
       "    <tr>\n",
       "      <th>5</th>\n",
       "      <td>Spider-Man</td>\n",
       "      <td>good</td>\n",
       "      <td>88</td>\n",
       "      <td>55</td>\n",
       "    </tr>\n",
       "  </tbody>\n",
       "</table>\n",
       "</div>"
      ],
      "text/plain": [
       "              Name Alignment  Intelligence  Strength\n",
       "0         Iron Man      good           100        85\n",
       "1  Captain America      good            63        65\n",
       "2             Hulk      good            88       100\n",
       "3          Hawkeye      good            62        12\n",
       "4             Thor      good            69       100\n",
       "5       Spider-Man      good            88        55"
      ]
     },
     "metadata": {},
     "output_type": "display_data"
    },
    {
     "data": {
      "text/html": [
       "<div>\n",
       "<table border=\"1\" class=\"dataframe\">\n",
       "  <thead>\n",
       "    <tr style=\"text-align: right;\">\n",
       "      <th></th>\n",
       "      <th>Name</th>\n",
       "      <th>Alignment</th>\n",
       "      <th>Intelligence</th>\n",
       "      <th>Strength</th>\n",
       "    </tr>\n",
       "  </thead>\n",
       "  <tbody>\n",
       "    <tr>\n",
       "      <th>0</th>\n",
       "      <td>Ultron</td>\n",
       "      <td>bad</td>\n",
       "      <td>95</td>\n",
       "      <td>83</td>\n",
       "    </tr>\n",
       "    <tr>\n",
       "      <th>1</th>\n",
       "      <td>Red Skull</td>\n",
       "      <td>bad</td>\n",
       "      <td>90</td>\n",
       "      <td>30</td>\n",
       "    </tr>\n",
       "    <tr>\n",
       "      <th>2</th>\n",
       "      <td>Abomination</td>\n",
       "      <td>bad</td>\n",
       "      <td>85</td>\n",
       "      <td>80</td>\n",
       "    </tr>\n",
       "    <tr>\n",
       "      <th>3</th>\n",
       "      <td>Bullseye</td>\n",
       "      <td>bad</td>\n",
       "      <td>75</td>\n",
       "      <td>11</td>\n",
       "    </tr>\n",
       "    <tr>\n",
       "      <th>4</th>\n",
       "      <td>Loki</td>\n",
       "      <td>bad</td>\n",
       "      <td>87</td>\n",
       "      <td>57</td>\n",
       "    </tr>\n",
       "    <tr>\n",
       "      <th>5</th>\n",
       "      <td>Green Goblin</td>\n",
       "      <td>bad</td>\n",
       "      <td>85</td>\n",
       "      <td>35</td>\n",
       "    </tr>\n",
       "  </tbody>\n",
       "</table>\n",
       "</div>"
      ],
      "text/plain": [
       "           Name Alignment  Intelligence  Strength\n",
       "0        Ultron       bad            95        83\n",
       "1     Red Skull       bad            90        30\n",
       "2   Abomination       bad            85        80\n",
       "3      Bullseye       bad            75        11\n",
       "4          Loki       bad            87        57\n",
       "5  Green Goblin       bad            85        35"
      ]
     },
     "metadata": {},
     "output_type": "display_data"
    }
   ],
   "source": [
    "df_heros = pd.read_excel('superherodata-matched.xlsx',skip_footer=9,parse_cols='A:D')\n",
    "display(df_heros)\n",
    "df_rivals = pd.read_excel('superherodata-matched.xlsx',skiprows=8,skip_footer=1,parse_cols='A:D',names=df_heros.columns)\n",
    "display(df_rivals)"
   ]
  },
  {
   "cell_type": "markdown",
   "metadata": {},
   "source": [
    "## T-test for paired and unpaired data"
   ]
  },
  {
   "cell_type": "code",
   "execution_count": 14,
   "metadata": {},
   "outputs": [
    {
     "name": "stdout",
     "output_type": "stream",
     "text": [
      "Ttest_indResult(statistic=-1.1205095545912165, pvalue=0.28868503197303447) Ttest_indResult(statistic=1.1147174588142275, pvalue=0.29104440880175197)\n"
     ]
    }
   ],
   "source": [
    "\n",
    "unpaired_intelli = \\\n",
    "stats.ttest_ind(np.array(df_heros['Intelligence']),np.array(df_rivals['Intelligence']), equal_var = True)\n",
    "\n",
    "unpaired_stre = \\\n",
    "stats.ttest_ind(np.array(df_heros['Strength']),np.array(df_rivals['Strength']), equal_var = True)\n",
    "\n",
    "print(unpaired_intelli,unpaired_stre)"
   ]
  },
  {
   "cell_type": "markdown",
   "metadata": {},
   "source": [
    "## Pair data"
   ]
  },
  {
   "cell_type": "code",
   "execution_count": 4,
   "metadata": {},
   "outputs": [
    {
     "data": {
      "text/html": [
       "<div>\n",
       "<table border=\"1\" class=\"dataframe\">\n",
       "  <thead>\n",
       "    <tr style=\"text-align: right;\">\n",
       "      <th></th>\n",
       "      <th>Hero</th>\n",
       "      <th>Rival</th>\n",
       "    </tr>\n",
       "  </thead>\n",
       "  <tbody>\n",
       "    <tr>\n",
       "      <th>0</th>\n",
       "      <td>Iron Man</td>\n",
       "      <td>Ultron</td>\n",
       "    </tr>\n",
       "    <tr>\n",
       "      <th>1</th>\n",
       "      <td>Captain America</td>\n",
       "      <td>Red Skull</td>\n",
       "    </tr>\n",
       "    <tr>\n",
       "      <th>2</th>\n",
       "      <td>Hulk</td>\n",
       "      <td>Abomination</td>\n",
       "    </tr>\n",
       "    <tr>\n",
       "      <th>3</th>\n",
       "      <td>Hawkeye</td>\n",
       "      <td>Bullseye</td>\n",
       "    </tr>\n",
       "    <tr>\n",
       "      <th>4</th>\n",
       "      <td>Thor</td>\n",
       "      <td>Loki</td>\n",
       "    </tr>\n",
       "    <tr>\n",
       "      <th>5</th>\n",
       "      <td>Spider-Man</td>\n",
       "      <td>Green Goblin</td>\n",
       "    </tr>\n",
       "  </tbody>\n",
       "</table>\n",
       "</div>"
      ],
      "text/plain": [
       "              Hero         Rival\n",
       "0         Iron Man        Ultron\n",
       "1  Captain America     Red Skull\n",
       "2             Hulk   Abomination\n",
       "3          Hawkeye      Bullseye\n",
       "4             Thor          Loki\n",
       "5       Spider-Man  Green Goblin"
      ]
     },
     "metadata": {},
     "output_type": "display_data"
    }
   ],
   "source": [
    "df_pair = pd.read_excel('superherodata-matched.xlsx',skip_footer=9,parse_cols='F:G')\n",
    "display(df_pair)\n",
    "#print(df_heros.columns)\n",
    "df_heros = df_heros.set_index('Name')\n",
    "df_rivals = df_rivals.set_index('Name')"
   ]
  },
  {
   "cell_type": "code",
   "execution_count": 11,
   "metadata": {},
   "outputs": [
    {
     "name": "stdout",
     "output_type": "stream",
     "text": [
      "[5, -27, 3, -13, -18, 3] [2, 35, 20, 1, 43, 20]\n"
     ]
    }
   ],
   "source": [
    "paired_intelli = []\n",
    "paired_stre= []\n",
    "for i in df_pair.index:\n",
    "    hero = df_pair.loc[i]['Hero']\n",
    "    rival = df_pair.loc[i]['Rival']\n",
    "    paired_intelli.append(df_heros.loc[hero]['Intelligence'] - df_rivals.loc[rival]['Intelligence'] )\n",
    "    paired_stre.append(df_heros.loc[hero]['Strength'] - df_rivals.loc[rival]['Strength'] )\n",
    "    \n",
    "print(paired_intelli,paired_stre)"
   ]
  },
  {
   "cell_type": "code",
   "execution_count": 13,
   "metadata": {},
   "outputs": [
    {
     "name": "stdout",
     "output_type": "stream",
     "text": [
      "Ttest_1sampResult(statistic=-1.4326871448205387, pvalue=0.2113828440847432)\n",
      "Ttest_1sampResult(statistic=2.911987470743906, pvalue=0.033322599465829272)\n"
     ]
    }
   ],
   "source": [
    "print(stats.ttest_1samp(paired_intelli,0))\n",
    "print(stats.ttest_1samp(paired_stre,0))"
   ]
  },
  {
   "cell_type": "code",
   "execution_count": null,
   "metadata": {
    "collapsed": true
   },
   "outputs": [],
   "source": []
  }
 ],
 "metadata": {
  "kernelspec": {
   "display_name": "Python 3",
   "language": "python",
   "name": "python3"
  },
  "language_info": {
   "codemirror_mode": {
    "name": "ipython",
    "version": 3
   },
   "file_extension": ".py",
   "mimetype": "text/x-python",
   "name": "python",
   "nbconvert_exporter": "python",
   "pygments_lexer": "ipython3",
   "version": "3.6.0"
  }
 },
 "nbformat": 4,
 "nbformat_minor": 2
}
