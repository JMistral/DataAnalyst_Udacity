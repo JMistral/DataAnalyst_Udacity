{
 "cells": [
  {
   "cell_type": "markdown",
   "metadata": {},
   "source": [
    "### Analyzing the Stroop Effect\n",
    "Perform the analysis in the space below. Remember to follow [the instructions](https://docs.google.com/document/d/1-OkpZLjG_kX9J6LIQ5IltsqMzVWjh36QpnP2RYpVdPU/pub?embedded=True) and review the [project rubric](https://review.udacity.com/#!/rubrics/71/view) before submitting. Once you've completed the analysis and write up, download this file as a PDF or HTML file and submit in the next section.\n",
    "\n",
    "\n",
    "(1) What is the independent variable? What is the dependent variable?"
   ]
  },
  {
   "cell_type": "markdown",
   "metadata": {},
   "source": [
    "The independent variable the the time differences that participants spend on between congruent and incongruent test.\n",
    "The dependent variable is the time spend on congruent and incongruent test for the same participant. So the time difference and time spent on both tests depends on tested individuals."
   ]
  },
  {
   "cell_type": "markdown",
   "metadata": {},
   "source": [
    "(2) What is an appropriate set of hypotheses for this task? What kind of statistical test do you expect to perform? Justify your choices."
   ]
  },
  {
   "cell_type": "markdown",
   "metadata": {},
   "source": [
    "The propriate set of hypotheses for this task is that the time difference each participants spends on two tests is independent from the time difference that other participants spend. Also the time differences for all participants are normally distributed. Finally, we assume that the samples we have is a fairly good representitive of the population that we're interested in.\n",
    "We should perform a two tail paired T-test, with the null hypothesis as mean of time difference equals to 0 for the population. Because the time spent on congruent and incongruent tests for one participant is dependent, but we want to test if there is a statistically significant difference between the average time spent on different tests for the population. And we don't know the population's standard deviation (excluding z-test), we're not comparing variance (excluding F-test)"
   ]
  },
  {
   "cell_type": "markdown",
   "metadata": {},
   "source": [
    "(3) Report some descriptive statistics regarding this dataset. Include at least one measure of central tendency and at least one measure of variability. The name of the data file is 'stroopdata.csv'."
   ]
  },
  {
   "cell_type": "code",
   "execution_count": 2,
   "metadata": {},
   "outputs": [
    {
     "name": "stdout",
     "output_type": "stream",
     "text": [
      "7.96479166667\n",
      "4.86482691036\n"
     ]
    }
   ],
   "source": [
    "import pandas as pd\n",
    "import numpy as np\n",
    "from scipy import stats\n",
    "from IPython.display import display, HTML\n",
    "df = pd.read_csv('stroopdata.csv')\n",
    "#display(df)\n",
    "diff_ = df['Incongruent'] - df['Congruent']\n",
    "xbar = np.mean(diff_)\n",
    "s = np.std(diff_,ddof=1)\n",
    "print(xbar)\n",
    "print(s)"
   ]
  },
  {
   "cell_type": "markdown",
   "metadata": {},
   "source": [
    "the sample mean of time difference is 7.96479166667 and the sample standard deviation is 4.86482691036"
   ]
  },
  {
   "cell_type": "markdown",
   "metadata": {},
   "source": [
    "(4) Provide one or two visualizations that show the distribution of the sample data. Write one or two sentences noting what you observe about the plot or plots."
   ]
  },
  {
   "cell_type": "code",
   "execution_count": 2,
   "metadata": {},
   "outputs": [
    {
     "data": {
      "image/png": "[encoded data removed]",
      "text/plain": [
       "<matplotlib.figure.Figure at 0x7f824437a128>"
      ]
     },
     "metadata": {},
     "output_type": "display_data"
    }
   ],
   "source": [
    "import matplotlib.pyplot as plt\n",
    "# the histogram of the data\n",
    "plt.hist(diff_, normed=False, bins=12)\n",
    "plt.show()"
   ]
  },
  {
   "cell_type": "markdown",
   "metadata": {},
   "source": [
    "From the histogram the time difference we can see that the normality assumption seems to be wrong. But since we have limited number of samples, we cannot infer the true distribution merely from this histogram."
   ]
  },
  {
   "cell_type": "markdown",
   "metadata": {},
   "source": [
    "(5) Now, perform the statistical test and report the results. What is the confidence level and your critical statistic value? Do you reject the null hypothesis or fail to reject it? Come to a conclusion in terms of the experiment task. Did the results match up with your expectations?"
   ]
  },
  {
   "cell_type": "code",
   "execution_count": 3,
   "metadata": {},
   "outputs": [
    {
     "name": "stdout",
     "output_type": "stream",
     "text": [
      "[5.9105554239684217, 10.01902790936491]\n",
      "8.02070694411\n",
      "Ttest_1sampResult(statistic=8.020706944109957, pvalue=4.1030005857111781e-08)\n"
     ]
    }
   ],
   "source": [
    "# we consider 95% confidence interval for mean. We have degree of freedom = n-1=23.\n",
    "# Then the corresponding student distribution \n",
    "import math\n",
    "n = len(diff_)\n",
    "t = stats.t.interval(0.95, n-1)\n",
    "coeff = t[0]*(s/math.sqrt(n))\n",
    "test_sta = xbar/(s/math.sqrt(n))\n",
    "ci = [xbar + coeff,xbar - coeff]\n",
    "print(ci)\n",
    "print(test_sta)\n",
    "print(stats.ttest_1samp(diff_,0))"
   ]
  },
  {
   "cell_type": "markdown",
   "metadata": {},
   "source": [
    "For the paired T-test, we have 95% confidence level, critical statistic value is 8.02070694411, p-value equals to 4.1030005857111781e-08, leading us to reject the null hyphothesis. We have The 95% confidence interval of population mean is [5.9105554239684217, 10.01902790936491]. Therefore we reject the hyphothesis that time difference is zero mean. Personally I got 12s time difference between the two tests, it matches my expectation."
   ]
  }
 ],
 "metadata": {
  "kernelspec": {
   "display_name": "Python 3",
   "language": "python",
   "name": "python3"
  },
  "language_info": {
   "codemirror_mode": {
    "name": "ipython",
    "version": 3
   },
   "file_extension": ".py",
   "mimetype": "text/x-python",
   "name": "python",
   "nbconvert_exporter": "python",
   "pygments_lexer": "ipython3",
   "version": "3.6.1"
  }
 },
 "nbformat": 4,
 "nbformat_minor": 2
}
